{
  "nbformat": 4,
  "nbformat_minor": 0,
  "metadata": {
    "colab": {
      "provenance": [],
      "authorship_tag": "ABX9TyPw0fzkn+0nrs+4dLxDSdj1",
      "include_colab_link": true
    },
    "kernelspec": {
      "name": "python3",
      "display_name": "Python 3"
    },
    "language_info": {
      "name": "python"
    }
  },
  "cells": [
    {
      "cell_type": "markdown",
      "metadata": {
        "id": "view-in-github",
        "colab_type": "text"
      },
      "source": [
        "<a href=\"https://colab.research.google.com/github/luisclaudio29/gerador_de_senhas_python/blob/main/Gerador_de_senha.ipynb\" target=\"_parent\"><img src=\"https://colab.research.google.com/assets/colab-badge.svg\" alt=\"Open In Colab\"/></a>"
      ]
    },
    {
      "cell_type": "code",
      "execution_count": 6,
      "metadata": {
        "colab": {
          "base_uri": "https://localhost:8080/"
        },
        "id": "IL3qAgTUiGow",
        "outputId": "cce86887-35b3-4bd2-f6f3-d0f8d014090d"
      },
      "outputs": [
        {
          "output_type": "stream",
          "name": "stdout",
          "text": [
            "Digite o tamanho da senha desejada: 8\n",
            "Senha gerada: G{<Go82*\n"
          ]
        }
      ],
      "source": [
        "import random\n",
        "import string\n",
        "\n",
        "def gerar_senha(tamanho):\n",
        "    caracteres = string.ascii_letters + string.digits + string.punctuation\n",
        "    senha = ''.join(random.choice(caracteres) for _ in range(tamanho))\n",
        "    return senha\n",
        "\n",
        "tamanho_senha = int(input(\"Digite o tamanho da senha desejada: \"))\n",
        "senha_gerada = gerar_senha(tamanho_senha)\n",
        "print(\"Senha gerada:\", senha_gerada)\n"
      ]
    }
  ]
}